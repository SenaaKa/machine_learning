{
 "cells": [
  {
   "cell_type": "code",
   "execution_count": 362,
   "metadata": {},
   "outputs": [],
   "source": [
    "import pandas as pd\n",
    "import numpy as np\n",
    "import matplotlib.pyplot as plt\n",
    "from sklearn import preprocessing"
   ]
  },
  {
   "cell_type": "code",
   "execution_count": 363,
   "metadata": {},
   "outputs": [],
   "source": [
    "df=pd.read_csv('data/eksikveriler.csv')"
   ]
  },
  {
   "cell_type": "code",
   "execution_count": 364,
   "metadata": {},
   "outputs": [],
   "source": [
    "boy=df[['boy']]"
   ]
  },
  {
   "cell_type": "code",
   "execution_count": 365,
   "metadata": {},
   "outputs": [
    {
     "name": "stdout",
     "output_type": "stream",
     "text": [
      "    boy\n",
      "0   130\n",
      "1   125\n",
      "2   135\n",
      "3   133\n",
      "4   129\n",
      "5   180\n",
      "6   190\n",
      "7   175\n",
      "8   177\n",
      "9   185\n",
      "10  165\n",
      "11  155\n",
      "12  160\n",
      "13  162\n",
      "14  167\n",
      "15  174\n",
      "16  193\n",
      "17  187\n",
      "18  183\n",
      "19  159\n",
      "20  164\n",
      "21  166\n"
     ]
    }
   ],
   "source": [
    "print(boy)"
   ]
  },
  {
   "cell_type": "code",
   "execution_count": 366,
   "metadata": {},
   "outputs": [],
   "source": [
    "boykilo=df[['boy', 'kilo']]"
   ]
  },
  {
   "cell_type": "code",
   "execution_count": 367,
   "metadata": {},
   "outputs": [],
   "source": [
    "class insan:\n",
    "    boy=180\n",
    "    def kosmak(self, b):\n",
    "        return b+10"
   ]
  },
  {
   "cell_type": "code",
   "execution_count": 368,
   "metadata": {},
   "outputs": [],
   "source": [
    "ali=insan()"
   ]
  },
  {
   "cell_type": "code",
   "execution_count": 369,
   "metadata": {},
   "outputs": [
    {
     "name": "stdout",
     "output_type": "stream",
     "text": [
      "180\n"
     ]
    }
   ],
   "source": [
    "print(ali.boy)"
   ]
  },
  {
   "cell_type": "code",
   "execution_count": 370,
   "metadata": {},
   "outputs": [
    {
     "name": "stdout",
     "output_type": "stream",
     "text": [
      "100\n"
     ]
    }
   ],
   "source": [
    "print(ali.kosmak(90))"
   ]
  },
  {
   "cell_type": "code",
   "execution_count": 371,
   "metadata": {},
   "outputs": [],
   "source": [
    "l=[1,2,3,4]"
   ]
  },
  {
   "cell_type": "markdown",
   "metadata": {},
   "source": [
    "from sklearn.impute import SimpleImputer"
   ]
  },
  {
   "cell_type": "markdown",
   "metadata": {},
   "source": [
    "imputer = SimpleImputer(missing_values=np.nan, strategy='mean')"
   ]
  },
  {
   "cell_type": "markdown",
   "metadata": {},
   "source": [
    "Yas=df.iloc[:,1:4].values\n",
    "print(Yas)\n",
    "imputer=imputer.fit(Yas[:,1:4])\n",
    "Yas[:,1:4]=imputer.transform\n",
    "print(Yas)"
   ]
  },
  {
   "cell_type": "code",
   "execution_count": 372,
   "metadata": {},
   "outputs": [],
   "source": [
    "df.yas=df.yas.fillna(df.yas.mean())"
   ]
  },
  {
   "cell_type": "code",
   "execution_count": 373,
   "metadata": {},
   "outputs": [],
   "source": [
    "ulke=df.iloc[:,0:1].values"
   ]
  },
  {
   "cell_type": "code",
   "execution_count": 374,
   "metadata": {},
   "outputs": [
    {
     "data": {
      "text/plain": [
       "array([['tr'],\n",
       "       ['tr'],\n",
       "       ['tr'],\n",
       "       ['tr'],\n",
       "       ['tr'],\n",
       "       ['tr'],\n",
       "       ['tr'],\n",
       "       ['tr'],\n",
       "       ['tr'],\n",
       "       ['us'],\n",
       "       ['us'],\n",
       "       ['us'],\n",
       "       ['us'],\n",
       "       ['us'],\n",
       "       ['us'],\n",
       "       ['fr'],\n",
       "       ['fr'],\n",
       "       ['fr'],\n",
       "       ['fr'],\n",
       "       ['fr'],\n",
       "       ['fr'],\n",
       "       ['fr']], dtype=object)"
      ]
     },
     "execution_count": 374,
     "metadata": {},
     "output_type": "execute_result"
    }
   ],
   "source": [
    "ulke"
   ]
  },
  {
   "cell_type": "code",
   "execution_count": 375,
   "metadata": {},
   "outputs": [],
   "source": [
    "le=preprocessing.LabelEncoder()"
   ]
  },
  {
   "cell_type": "code",
   "execution_count": 376,
   "metadata": {},
   "outputs": [],
   "source": [
    "ulke[:,0]=le.fit_transform(df.iloc[:,0])"
   ]
  },
  {
   "cell_type": "code",
   "execution_count": 377,
   "metadata": {},
   "outputs": [
    {
     "data": {
      "text/plain": [
       "array([[1],\n",
       "       [1],\n",
       "       [1],\n",
       "       [1],\n",
       "       [1],\n",
       "       [1],\n",
       "       [1],\n",
       "       [1],\n",
       "       [1],\n",
       "       [2],\n",
       "       [2],\n",
       "       [2],\n",
       "       [2],\n",
       "       [2],\n",
       "       [2],\n",
       "       [0],\n",
       "       [0],\n",
       "       [0],\n",
       "       [0],\n",
       "       [0],\n",
       "       [0],\n",
       "       [0]], dtype=object)"
      ]
     },
     "execution_count": 377,
     "metadata": {},
     "output_type": "execute_result"
    }
   ],
   "source": [
    "ulke"
   ]
  },
  {
   "cell_type": "code",
   "execution_count": 378,
   "metadata": {},
   "outputs": [],
   "source": [
    "ohe=preprocessing.OneHotEncoder()\n",
    "ulke=ohe.fit_transform(ulke).toarray()"
   ]
  },
  {
   "cell_type": "code",
   "execution_count": 379,
   "metadata": {},
   "outputs": [
    {
     "name": "stdout",
     "output_type": "stream",
     "text": [
      "[[0. 1. 0.]\n",
      " [0. 1. 0.]\n",
      " [0. 1. 0.]\n",
      " [0. 1. 0.]\n",
      " [0. 1. 0.]\n",
      " [0. 1. 0.]\n",
      " [0. 1. 0.]\n",
      " [0. 1. 0.]\n",
      " [0. 1. 0.]\n",
      " [0. 0. 1.]\n",
      " [0. 0. 1.]\n",
      " [0. 0. 1.]\n",
      " [0. 0. 1.]\n",
      " [0. 0. 1.]\n",
      " [0. 0. 1.]\n",
      " [1. 0. 0.]\n",
      " [1. 0. 0.]\n",
      " [1. 0. 0.]\n",
      " [1. 0. 0.]\n",
      " [1. 0. 0.]\n",
      " [1. 0. 0.]\n",
      " [1. 0. 0.]]\n"
     ]
    }
   ],
   "source": [
    "print(ulke)"
   ]
  },
  {
   "cell_type": "code",
   "execution_count": 380,
   "metadata": {},
   "outputs": [],
   "source": [
    "sonuc=pd.DataFrame(data=ulke, index=range(22), columns=['fr', 'tr', 'us'])"
   ]
  },
  {
   "cell_type": "code",
   "execution_count": 381,
   "metadata": {},
   "outputs": [
    {
     "name": "stdout",
     "output_type": "stream",
     "text": [
      "     fr   tr   us\n",
      "0   0.0  1.0  0.0\n",
      "1   0.0  1.0  0.0\n",
      "2   0.0  1.0  0.0\n",
      "3   0.0  1.0  0.0\n",
      "4   0.0  1.0  0.0\n",
      "5   0.0  1.0  0.0\n",
      "6   0.0  1.0  0.0\n",
      "7   0.0  1.0  0.0\n",
      "8   0.0  1.0  0.0\n",
      "9   0.0  0.0  1.0\n",
      "10  0.0  0.0  1.0\n",
      "11  0.0  0.0  1.0\n",
      "12  0.0  0.0  1.0\n",
      "13  0.0  0.0  1.0\n",
      "14  0.0  0.0  1.0\n",
      "15  1.0  0.0  0.0\n",
      "16  1.0  0.0  0.0\n",
      "17  1.0  0.0  0.0\n",
      "18  1.0  0.0  0.0\n",
      "19  1.0  0.0  0.0\n",
      "20  1.0  0.0  0.0\n",
      "21  1.0  0.0  0.0\n"
     ]
    }
   ],
   "source": [
    "print(sonuc)"
   ]
  },
  {
   "cell_type": "code",
   "execution_count": 382,
   "metadata": {},
   "outputs": [],
   "source": [
    "sonuc2=pd.DataFrame(data=Yas, index=range(22), columns=['boy', 'kilo', 'yas'])"
   ]
  },
  {
   "cell_type": "code",
   "execution_count": 383,
   "metadata": {},
   "outputs": [
    {
     "name": "stdout",
     "output_type": "stream",
     "text": [
      "      boy   kilo   yas\n",
      "0   130.0   30.0  10.0\n",
      "1   125.0   36.0  11.0\n",
      "2   135.0   34.0  10.0\n",
      "3   133.0   30.0   9.0\n",
      "4   129.0   38.0  12.0\n",
      "5   180.0   90.0  30.0\n",
      "6   190.0   80.0  25.0\n",
      "7   175.0   90.0  35.0\n",
      "8   177.0   60.0  22.0\n",
      "9   185.0  105.0  33.0\n",
      "10  165.0   55.0  27.0\n",
      "11  155.0   50.0  44.0\n",
      "12  160.0   58.0   NaN\n",
      "13  162.0   59.0  41.0\n",
      "14  167.0   62.0  55.0\n",
      "15  174.0   70.0  47.0\n",
      "16  193.0   90.0   NaN\n",
      "17  187.0   80.0  27.0\n",
      "18  183.0   88.0  28.0\n",
      "19  159.0   40.0  29.0\n",
      "20  164.0   66.0  32.0\n",
      "21  166.0   56.0  42.0\n"
     ]
    }
   ],
   "source": [
    "print(sonuc2)"
   ]
  },
  {
   "cell_type": "code",
   "execution_count": 384,
   "metadata": {},
   "outputs": [],
   "source": [
    "cinsiyet=df.iloc[:,-1].values"
   ]
  },
  {
   "cell_type": "code",
   "execution_count": 385,
   "metadata": {},
   "outputs": [
    {
     "name": "stdout",
     "output_type": "stream",
     "text": [
      "['e' 'e' 'k' 'k' 'e' 'e' 'e' 'e' 'k' 'e' 'k' 'k' 'k' 'k' 'k' 'e' 'e' 'e'\n",
      " 'e' 'k' 'k' 'k']\n"
     ]
    }
   ],
   "source": [
    "print(cinsiyet)"
   ]
  },
  {
   "cell_type": "code",
   "execution_count": 386,
   "metadata": {},
   "outputs": [
    {
     "name": "stdout",
     "output_type": "stream",
     "text": [
      "   cinsiyet\n",
      "0         e\n",
      "1         e\n",
      "2         k\n",
      "3         k\n",
      "4         e\n",
      "5         e\n",
      "6         e\n",
      "7         e\n",
      "8         k\n",
      "9         e\n",
      "10        k\n",
      "11        k\n",
      "12        k\n",
      "13        k\n",
      "14        k\n",
      "15        e\n",
      "16        e\n",
      "17        e\n",
      "18        e\n",
      "19        k\n",
      "20        k\n",
      "21        k\n"
     ]
    }
   ],
   "source": [
    "sonuc3=pd.DataFrame(data=cinsiyet, index=range(22), columns=['cinsiyet'])\n",
    "print(sonuc3)"
   ]
  },
  {
   "cell_type": "code",
   "execution_count": 387,
   "metadata": {},
   "outputs": [
    {
     "name": "stdout",
     "output_type": "stream",
     "text": [
      "     fr   tr   us    boy   kilo   yas\n",
      "0   0.0  1.0  0.0  130.0   30.0  10.0\n",
      "1   0.0  1.0  0.0  125.0   36.0  11.0\n",
      "2   0.0  1.0  0.0  135.0   34.0  10.0\n",
      "3   0.0  1.0  0.0  133.0   30.0   9.0\n",
      "4   0.0  1.0  0.0  129.0   38.0  12.0\n",
      "5   0.0  1.0  0.0  180.0   90.0  30.0\n",
      "6   0.0  1.0  0.0  190.0   80.0  25.0\n",
      "7   0.0  1.0  0.0  175.0   90.0  35.0\n",
      "8   0.0  1.0  0.0  177.0   60.0  22.0\n",
      "9   0.0  0.0  1.0  185.0  105.0  33.0\n",
      "10  0.0  0.0  1.0  165.0   55.0  27.0\n",
      "11  0.0  0.0  1.0  155.0   50.0  44.0\n",
      "12  0.0  0.0  1.0  160.0   58.0   NaN\n",
      "13  0.0  0.0  1.0  162.0   59.0  41.0\n",
      "14  0.0  0.0  1.0  167.0   62.0  55.0\n",
      "15  1.0  0.0  0.0  174.0   70.0  47.0\n",
      "16  1.0  0.0  0.0  193.0   90.0   NaN\n",
      "17  1.0  0.0  0.0  187.0   80.0  27.0\n",
      "18  1.0  0.0  0.0  183.0   88.0  28.0\n",
      "19  1.0  0.0  0.0  159.0   40.0  29.0\n",
      "20  1.0  0.0  0.0  164.0   66.0  32.0\n",
      "21  1.0  0.0  0.0  166.0   56.0  42.0\n"
     ]
    }
   ],
   "source": [
    "s=pd.concat([sonuc, sonuc2], axis=1)\n",
    "print(s)"
   ]
  },
  {
   "cell_type": "code",
   "execution_count": 388,
   "metadata": {},
   "outputs": [
    {
     "name": "stdout",
     "output_type": "stream",
     "text": [
      "     fr   tr   us    boy   kilo   yas cinsiyet\n",
      "0   0.0  1.0  0.0  130.0   30.0  10.0        e\n",
      "1   0.0  1.0  0.0  125.0   36.0  11.0        e\n",
      "2   0.0  1.0  0.0  135.0   34.0  10.0        k\n",
      "3   0.0  1.0  0.0  133.0   30.0   9.0        k\n",
      "4   0.0  1.0  0.0  129.0   38.0  12.0        e\n",
      "5   0.0  1.0  0.0  180.0   90.0  30.0        e\n",
      "6   0.0  1.0  0.0  190.0   80.0  25.0        e\n",
      "7   0.0  1.0  0.0  175.0   90.0  35.0        e\n",
      "8   0.0  1.0  0.0  177.0   60.0  22.0        k\n",
      "9   0.0  0.0  1.0  185.0  105.0  33.0        e\n",
      "10  0.0  0.0  1.0  165.0   55.0  27.0        k\n",
      "11  0.0  0.0  1.0  155.0   50.0  44.0        k\n",
      "12  0.0  0.0  1.0  160.0   58.0   NaN        k\n",
      "13  0.0  0.0  1.0  162.0   59.0  41.0        k\n",
      "14  0.0  0.0  1.0  167.0   62.0  55.0        k\n",
      "15  1.0  0.0  0.0  174.0   70.0  47.0        e\n",
      "16  1.0  0.0  0.0  193.0   90.0   NaN        e\n",
      "17  1.0  0.0  0.0  187.0   80.0  27.0        e\n",
      "18  1.0  0.0  0.0  183.0   88.0  28.0        e\n",
      "19  1.0  0.0  0.0  159.0   40.0  29.0        k\n",
      "20  1.0  0.0  0.0  164.0   66.0  32.0        k\n",
      "21  1.0  0.0  0.0  166.0   56.0  42.0        k\n"
     ]
    }
   ],
   "source": [
    "s2=pd.concat([s, sonuc3], axis=1)\n",
    "print(s2)"
   ]
  }
 ],
 "metadata": {
  "kernelspec": {
   "display_name": "Python 3.10.6 64-bit",
   "language": "python",
   "name": "python3"
  },
  "language_info": {
   "codemirror_mode": {
    "name": "ipython",
    "version": 3
   },
   "file_extension": ".py",
   "mimetype": "text/x-python",
   "name": "python",
   "nbconvert_exporter": "python",
   "pygments_lexer": "ipython3",
   "version": "3.10.6"
  },
  "orig_nbformat": 4,
  "vscode": {
   "interpreter": {
    "hash": "28efd09dcc6b142db6e20914436138089792d1363e0d9a987455deac357cff31"
   }
  }
 },
 "nbformat": 4,
 "nbformat_minor": 2
}
