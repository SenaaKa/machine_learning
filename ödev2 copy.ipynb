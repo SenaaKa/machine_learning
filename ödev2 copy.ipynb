{
 "cells": [
  {
   "cell_type": "code",
   "execution_count": 81,
   "metadata": {},
   "outputs": [],
   "source": [
    "import pandas as pd\n",
    "import numpy as np\n"
   ]
  },
  {
   "cell_type": "code",
   "execution_count": 82,
   "metadata": {},
   "outputs": [],
   "source": [
    "df=pd.read_csv('alta-noaa-1980-2019.csv')"
   ]
  },
  {
   "cell_type": "code",
   "execution_count": 83,
   "metadata": {},
   "outputs": [
    {
     "data": {
      "text/plain": [
       "0        USC00420072\n",
       "1        USC00420072\n",
       "2        USC00420072\n",
       "3        USC00420072\n",
       "4        USC00420072\n",
       "            ...     \n",
       "14155    USC00420072\n",
       "14156    USC00420072\n",
       "14157    USC00420072\n",
       "14158    USC00420072\n",
       "14159    USC00420072\n",
       "Name: STATION, Length: 14160, dtype: object"
      ]
     },
     "execution_count": 83,
     "metadata": {},
     "output_type": "execute_result"
    }
   ],
   "source": [
    "df[\"STATION\"].fillna(df[\"STATION\"].mode())"
   ]
  },
  {
   "cell_type": "code",
   "execution_count": 84,
   "metadata": {},
   "outputs": [],
   "source": [
    "for i in df.columns:\n",
    "    df[i] = df[i].fillna(df[i].mode()[0])"
   ]
  },
  {
   "cell_type": "code",
   "execution_count": 85,
   "metadata": {},
   "outputs": [],
   "source": [
    "df=pd.read_csv('alta-noaa-1980-2019.csv')"
   ]
  },
  {
   "cell_type": "code",
   "execution_count": 86,
   "metadata": {},
   "outputs": [
    {
     "data": {
      "text/plain": [
       "dtype('O')"
      ]
     },
     "execution_count": 86,
     "metadata": {},
     "output_type": "execute_result"
    }
   ],
   "source": [
    "df['STATION'].dtype"
   ]
  },
  {
   "cell_type": "code",
   "execution_count": 87,
   "metadata": {},
   "outputs": [],
   "source": [
    "liste = df.columns.tolist()"
   ]
  },
  {
   "cell_type": "code",
   "execution_count": 89,
   "metadata": {},
   "outputs": [],
   "source": [
    "\n",
    "def doldurucu(df):\n",
    "    for i in liste:\n",
    "        x = df[i].dtype\n",
    "        if (x == 'O') :\n",
    "            df[i] = df[i].fillna(df[i].mode()[0])\n",
    "        else:\n",
    "            df[i] = df[i].fillna(df[i].mean())\n",
    "    return df"
   ]
  },
  {
   "cell_type": "code",
   "execution_count": 90,
   "metadata": {},
   "outputs": [],
   "source": [
    "df = doldurucu(df)"
   ]
  },
  {
   "cell_type": "code",
   "execution_count": 91,
   "metadata": {},
   "outputs": [
    {
     "name": "stdout",
     "output_type": "stream",
     "text": [
      "<class 'pandas.core.frame.DataFrame'>\n",
      "RangeIndex: 14160 entries, 0 to 14159\n",
      "Data columns (total 22 columns):\n",
      " #   Column     Non-Null Count  Dtype  \n",
      "---  ------     --------------  -----  \n",
      " 0   STATION    14160 non-null  object \n",
      " 1   NAME       14160 non-null  object \n",
      " 2   LATITUDE   14160 non-null  float64\n",
      " 3   LONGITUDE  14160 non-null  float64\n",
      " 4   ELEVATION  14160 non-null  float64\n",
      " 5   DATE       14160 non-null  object \n",
      " 6   DAPR       14160 non-null  float64\n",
      " 7   DASF       14160 non-null  float64\n",
      " 8   MDPR       14160 non-null  float64\n",
      " 9   MDSF       14160 non-null  float64\n",
      " 10  PRCP       14160 non-null  float64\n",
      " 11  SNOW       14160 non-null  float64\n",
      " 12  SNWD       14160 non-null  float64\n",
      " 13  TMAX       14160 non-null  float64\n",
      " 14  TMIN       14160 non-null  float64\n",
      " 15  TOBS       14160 non-null  float64\n",
      " 16  WT01       14160 non-null  float64\n",
      " 17  WT03       14160 non-null  float64\n",
      " 18  WT04       14160 non-null  float64\n",
      " 19  WT05       14160 non-null  float64\n",
      " 20  WT06       14160 non-null  float64\n",
      " 21  WT11       14160 non-null  float64\n",
      "dtypes: float64(19), object(3)\n",
      "memory usage: 2.4+ MB\n"
     ]
    }
   ],
   "source": [
    "df.info()"
   ]
  }
 ],
 "metadata": {
  "kernelspec": {
   "display_name": "Python 3.10.6 64-bit",
   "language": "python",
   "name": "python3"
  },
  "language_info": {
   "codemirror_mode": {
    "name": "ipython",
    "version": 3
   },
   "file_extension": ".py",
   "mimetype": "text/x-python",
   "name": "python",
   "nbconvert_exporter": "python",
   "pygments_lexer": "ipython3",
   "version": "3.10.6"
  },
  "orig_nbformat": 4,
  "vscode": {
   "interpreter": {
    "hash": "28efd09dcc6b142db6e20914436138089792d1363e0d9a987455deac357cff31"
   }
  }
 },
 "nbformat": 4,
 "nbformat_minor": 2
}
