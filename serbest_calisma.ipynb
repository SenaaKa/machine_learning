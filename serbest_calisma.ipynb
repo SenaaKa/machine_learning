{
 "cells": [
  {
   "cell_type": "code",
   "execution_count": 3,
   "metadata": {},
   "outputs": [],
   "source": [
    "def kok_bul(a, b, c):\n",
    "    print(a, 'x**2+', b, 'x+', c, '=0')\n",
    "    delta=b**2-4*a*c\n",
    "    print('Delta=', delta)\n",
    "    if delta<0:\n",
    "        print('Reel kök yoktur.')\n",
    "    elif delta==0:\n",
    "        x1=-b/(2*a)\n",
    "        print('Çakışık kök vardır.', x1)\n",
    "        return x1 \n",
    "    else:\n",
    "        x1=(-b-(delta)**(1/2))/(2*a)\n",
    "        x2=(-b+(delta)**(1/2))/(2*a)\n",
    "        print('İki farklı reel kök vardır.', x1, x2)\n",
    "        return x1 , x2\n",
    "    \n"
   ]
  },
  {
   "cell_type": "code",
   "execution_count": 4,
   "metadata": {},
   "outputs": [
    {
     "name": "stdout",
     "output_type": "stream",
     "text": [
      "1 x**2+ 1 x+ 2 =0\n",
      "Delta= -7\n",
      "Reel kök yoktur.\n"
     ]
    }
   ],
   "source": [
    "y = kok_bul(1,1,2)"
   ]
  },
  {
   "cell_type": "code",
   "execution_count": 5,
   "metadata": {},
   "outputs": [],
   "source": [
    "def tam_kare(a, b):\n",
    "    print('(',a, 'x+', b, 'y',')**2 = ',a**2, 'x**2+', 2*a*b, 'x*y+', b**2, 'y**2')\n"
   ]
  },
  {
   "cell_type": "code",
   "execution_count": 6,
   "metadata": {},
   "outputs": [
    {
     "name": "stdout",
     "output_type": "stream",
     "text": [
      "( 3 x+ 5 y )**2 =  9 x**2+ 30 x*y+ 25 y**2\n"
     ]
    }
   ],
   "source": [
    "y = tam_kare(3,5)"
   ]
  },
  {
   "cell_type": "code",
   "execution_count": null,
   "metadata": {},
   "outputs": [],
   "source": []
  }
 ],
 "metadata": {
  "kernelspec": {
   "display_name": "Python 3.10.6 64-bit",
   "language": "python",
   "name": "python3"
  },
  "language_info": {
   "codemirror_mode": {
    "name": "ipython",
    "version": 3
   },
   "file_extension": ".py",
   "mimetype": "text/x-python",
   "name": "python",
   "nbconvert_exporter": "python",
   "pygments_lexer": "ipython3",
   "version": "3.10.6"
  },
  "orig_nbformat": 4,
  "vscode": {
   "interpreter": {
    "hash": "28efd09dcc6b142db6e20914436138089792d1363e0d9a987455deac357cff31"
   }
  }
 },
 "nbformat": 4,
 "nbformat_minor": 2
}
