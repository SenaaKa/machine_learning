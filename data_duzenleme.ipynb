{
 "cells": [
  {
   "cell_type": "code",
   "execution_count": 84,
   "metadata": {},
   "outputs": [],
   "source": [
    "import pandas as pd"
   ]
  },
  {
   "cell_type": "code",
   "execution_count": 85,
   "metadata": {},
   "outputs": [],
   "source": [
    "df = pd.read_csv('runways.csv')"
   ]
  },
  {
   "cell_type": "code",
   "execution_count": 86,
   "metadata": {},
   "outputs": [
    {
     "name": "stdout",
     "output_type": "stream",
     "text": [
      "<class 'pandas.core.frame.DataFrame'>\n",
      "RangeIndex: 40979 entries, 0 to 40978\n",
      "Data columns (total 21 columns):\n",
      " #   Column                     Non-Null Count  Dtype  \n",
      "---  ------                     --------------  -----  \n",
      " 0   id                         40979 non-null  int64  \n",
      " 1   airport_ref                40979 non-null  int64  \n",
      " 2   airport_ident              40979 non-null  object \n",
      " 3   length_ft                  40810 non-null  float64\n",
      " 4   width_ft                   38343 non-null  float64\n",
      " 5   surface                    40723 non-null  object \n",
      " 6   lighted                    40979 non-null  int64  \n",
      " 7   closed                     40979 non-null  int64  \n",
      " 8   le_ident                   40860 non-null  object \n",
      " 9   le_latitude_deg            14242 non-null  float64\n",
      " 10  le_longitude_deg           14239 non-null  float64\n",
      " 11  le_elevation_ft            12117 non-null  float64\n",
      " 12  le_heading_degT            14040 non-null  float64\n",
      " 13  le_displaced_threshold_ft  2804 non-null   float64\n",
      " 14  he_ident                   34838 non-null  object \n",
      " 15  he_latitude_deg            14229 non-null  float64\n",
      " 16  he_longitude_deg           14231 non-null  float64\n",
      " 17  he_elevation_ft            12005 non-null  float64\n",
      " 18  he_heading_degT            15853 non-null  float64\n",
      " 19  he_displaced_threshold_ft  3116 non-null   float64\n",
      " 20  Unnamed: 20                0 non-null      float64\n",
      "dtypes: float64(13), int64(4), object(4)\n",
      "memory usage: 6.6+ MB\n"
     ]
    }
   ],
   "source": [
    "df.info()"
   ]
  },
  {
   "cell_type": "code",
   "execution_count": 87,
   "metadata": {},
   "outputs": [],
   "source": [
    "df = df.drop(columns=['id', 'Unnamed: 20' ,'airport_ident', 'surface', 'le_ident', 'le_latitude_deg', 'le_longitude_deg', 'le_elevation_ft', 'le_heading_degT',\t'he_latitude_deg'\t,'he_longitude_deg',\t'he_elevation_ft' ])"
   ]
  },
  {
   "cell_type": "code",
   "execution_count": 88,
   "metadata": {},
   "outputs": [
    {
     "name": "stdout",
     "output_type": "stream",
     "text": [
      "<class 'pandas.core.frame.DataFrame'>\n",
      "RangeIndex: 40979 entries, 0 to 40978\n",
      "Data columns (total 9 columns):\n",
      " #   Column                     Non-Null Count  Dtype  \n",
      "---  ------                     --------------  -----  \n",
      " 0   airport_ref                40979 non-null  int64  \n",
      " 1   length_ft                  40810 non-null  float64\n",
      " 2   width_ft                   38343 non-null  float64\n",
      " 3   lighted                    40979 non-null  int64  \n",
      " 4   closed                     40979 non-null  int64  \n",
      " 5   le_displaced_threshold_ft  2804 non-null   float64\n",
      " 6   he_ident                   34838 non-null  object \n",
      " 7   he_heading_degT            15853 non-null  float64\n",
      " 8   he_displaced_threshold_ft  3116 non-null   float64\n",
      "dtypes: float64(5), int64(3), object(1)\n",
      "memory usage: 2.8+ MB\n"
     ]
    }
   ],
   "source": [
    "df.info()"
   ]
  },
  {
   "cell_type": "code",
   "execution_count": 89,
   "metadata": {},
   "outputs": [],
   "source": [
    "df.length_ft=df.length_ft.fillna(df.length_ft.mean())"
   ]
  },
  {
   "cell_type": "code",
   "execution_count": 90,
   "metadata": {},
   "outputs": [],
   "source": [
    "df.width_ft=df.width_ft.fillna(df.width_ft.mean())"
   ]
  },
  {
   "cell_type": "code",
   "execution_count": 91,
   "metadata": {},
   "outputs": [],
   "source": [
    "df['le_displaced_threshold_ft']=df['le_displaced_threshold_ft'].fillna(df.le_displaced_threshold_ft.mode()[0])"
   ]
  },
  {
   "cell_type": "code",
   "execution_count": 92,
   "metadata": {},
   "outputs": [],
   "source": [
    "df.he_heading_degT=df.he_heading_degT.fillna(df.he_heading_degT.mean())"
   ]
  },
  {
   "cell_type": "code",
   "execution_count": 93,
   "metadata": {},
   "outputs": [
    {
     "data": {
      "text/html": [
       "<div>\n",
       "<style scoped>\n",
       "    .dataframe tbody tr th:only-of-type {\n",
       "        vertical-align: middle;\n",
       "    }\n",
       "\n",
       "    .dataframe tbody tr th {\n",
       "        vertical-align: top;\n",
       "    }\n",
       "\n",
       "    .dataframe thead th {\n",
       "        text-align: right;\n",
       "    }\n",
       "</style>\n",
       "<table border=\"1\" class=\"dataframe\">\n",
       "  <thead>\n",
       "    <tr style=\"text-align: right;\">\n",
       "      <th></th>\n",
       "      <th>airport_ref</th>\n",
       "      <th>length_ft</th>\n",
       "      <th>width_ft</th>\n",
       "      <th>lighted</th>\n",
       "      <th>closed</th>\n",
       "      <th>le_displaced_threshold_ft</th>\n",
       "      <th>he_ident</th>\n",
       "      <th>he_heading_degT</th>\n",
       "      <th>he_displaced_threshold_ft</th>\n",
       "    </tr>\n",
       "  </thead>\n",
       "  <tbody>\n",
       "    <tr>\n",
       "      <th>0</th>\n",
       "      <td>6523</td>\n",
       "      <td>80.0</td>\n",
       "      <td>80.0</td>\n",
       "      <td>1</td>\n",
       "      <td>0</td>\n",
       "      <td>200.0</td>\n",
       "      <td>NaN</td>\n",
       "      <td>261.714515</td>\n",
       "      <td>NaN</td>\n",
       "    </tr>\n",
       "    <tr>\n",
       "      <th>1</th>\n",
       "      <td>6524</td>\n",
       "      <td>2500.0</td>\n",
       "      <td>70.0</td>\n",
       "      <td>0</td>\n",
       "      <td>0</td>\n",
       "      <td>200.0</td>\n",
       "      <td>S</td>\n",
       "      <td>261.714515</td>\n",
       "      <td>NaN</td>\n",
       "    </tr>\n",
       "    <tr>\n",
       "      <th>2</th>\n",
       "      <td>6525</td>\n",
       "      <td>2300.0</td>\n",
       "      <td>200.0</td>\n",
       "      <td>0</td>\n",
       "      <td>0</td>\n",
       "      <td>200.0</td>\n",
       "      <td>19</td>\n",
       "      <td>261.714515</td>\n",
       "      <td>NaN</td>\n",
       "    </tr>\n",
       "    <tr>\n",
       "      <th>3</th>\n",
       "      <td>6526</td>\n",
       "      <td>40.0</td>\n",
       "      <td>40.0</td>\n",
       "      <td>0</td>\n",
       "      <td>0</td>\n",
       "      <td>200.0</td>\n",
       "      <td>H1</td>\n",
       "      <td>261.714515</td>\n",
       "      <td>NaN</td>\n",
       "    </tr>\n",
       "    <tr>\n",
       "      <th>4</th>\n",
       "      <td>322127</td>\n",
       "      <td>1450.0</td>\n",
       "      <td>60.0</td>\n",
       "      <td>0</td>\n",
       "      <td>0</td>\n",
       "      <td>200.0</td>\n",
       "      <td>19</td>\n",
       "      <td>261.714515</td>\n",
       "      <td>NaN</td>\n",
       "    </tr>\n",
       "    <tr>\n",
       "      <th>...</th>\n",
       "      <td>...</td>\n",
       "      <td>...</td>\n",
       "      <td>...</td>\n",
       "      <td>...</td>\n",
       "      <td>...</td>\n",
       "      <td>...</td>\n",
       "      <td>...</td>\n",
       "      <td>...</td>\n",
       "      <td>...</td>\n",
       "    </tr>\n",
       "    <tr>\n",
       "      <th>40974</th>\n",
       "      <td>327451</td>\n",
       "      <td>8202.0</td>\n",
       "      <td>148.0</td>\n",
       "      <td>0</td>\n",
       "      <td>0</td>\n",
       "      <td>200.0</td>\n",
       "      <td>22</td>\n",
       "      <td>261.714515</td>\n",
       "      <td>NaN</td>\n",
       "    </tr>\n",
       "    <tr>\n",
       "      <th>40975</th>\n",
       "      <td>27242</td>\n",
       "      <td>10827.0</td>\n",
       "      <td>148.0</td>\n",
       "      <td>1</td>\n",
       "      <td>0</td>\n",
       "      <td>650.0</td>\n",
       "      <td>28</td>\n",
       "      <td>275.600000</td>\n",
       "      <td>320.0</td>\n",
       "    </tr>\n",
       "    <tr>\n",
       "      <th>40976</th>\n",
       "      <td>27243</td>\n",
       "      <td>10499.0</td>\n",
       "      <td>148.0</td>\n",
       "      <td>1</td>\n",
       "      <td>0</td>\n",
       "      <td>200.0</td>\n",
       "      <td>24</td>\n",
       "      <td>228.700000</td>\n",
       "      <td>NaN</td>\n",
       "    </tr>\n",
       "    <tr>\n",
       "      <th>40977</th>\n",
       "      <td>27244</td>\n",
       "      <td>8530.0</td>\n",
       "      <td>148.0</td>\n",
       "      <td>1</td>\n",
       "      <td>0</td>\n",
       "      <td>200.0</td>\n",
       "      <td>27</td>\n",
       "      <td>261.700000</td>\n",
       "      <td>NaN</td>\n",
       "    </tr>\n",
       "    <tr>\n",
       "      <th>40978</th>\n",
       "      <td>313629</td>\n",
       "      <td>1713.0</td>\n",
       "      <td>82.0</td>\n",
       "      <td>0</td>\n",
       "      <td>0</td>\n",
       "      <td>200.0</td>\n",
       "      <td>36</td>\n",
       "      <td>261.714515</td>\n",
       "      <td>NaN</td>\n",
       "    </tr>\n",
       "  </tbody>\n",
       "</table>\n",
       "<p>40979 rows × 9 columns</p>\n",
       "</div>"
      ],
      "text/plain": [
       "       airport_ref  length_ft  width_ft  lighted  closed  \\\n",
       "0             6523       80.0      80.0        1       0   \n",
       "1             6524     2500.0      70.0        0       0   \n",
       "2             6525     2300.0     200.0        0       0   \n",
       "3             6526       40.0      40.0        0       0   \n",
       "4           322127     1450.0      60.0        0       0   \n",
       "...            ...        ...       ...      ...     ...   \n",
       "40974       327451     8202.0     148.0        0       0   \n",
       "40975        27242    10827.0     148.0        1       0   \n",
       "40976        27243    10499.0     148.0        1       0   \n",
       "40977        27244     8530.0     148.0        1       0   \n",
       "40978       313629     1713.0      82.0        0       0   \n",
       "\n",
       "       le_displaced_threshold_ft he_ident  he_heading_degT  \\\n",
       "0                          200.0      NaN       261.714515   \n",
       "1                          200.0        S       261.714515   \n",
       "2                          200.0       19       261.714515   \n",
       "3                          200.0       H1       261.714515   \n",
       "4                          200.0       19       261.714515   \n",
       "...                          ...      ...              ...   \n",
       "40974                      200.0       22       261.714515   \n",
       "40975                      650.0       28       275.600000   \n",
       "40976                      200.0       24       228.700000   \n",
       "40977                      200.0       27       261.700000   \n",
       "40978                      200.0       36       261.714515   \n",
       "\n",
       "       he_displaced_threshold_ft  \n",
       "0                            NaN  \n",
       "1                            NaN  \n",
       "2                            NaN  \n",
       "3                            NaN  \n",
       "4                            NaN  \n",
       "...                          ...  \n",
       "40974                        NaN  \n",
       "40975                      320.0  \n",
       "40976                        NaN  \n",
       "40977                        NaN  \n",
       "40978                        NaN  \n",
       "\n",
       "[40979 rows x 9 columns]"
      ]
     },
     "execution_count": 93,
     "metadata": {},
     "output_type": "execute_result"
    }
   ],
   "source": [
    "df"
   ]
  },
  {
   "cell_type": "code",
   "execution_count": 94,
   "metadata": {},
   "outputs": [],
   "source": [
    "df.he_displaced_threshold_ft=df.he_displaced_threshold_ft.fillna(df.he_displaced_threshold_ft.mean())"
   ]
  },
  {
   "cell_type": "code",
   "execution_count": 98,
   "metadata": {},
   "outputs": [],
   "source": [
    "df.he_ident=df.he_ident.fillna(df.he_ident.mode()[0])"
   ]
  },
  {
   "cell_type": "code",
   "execution_count": 101,
   "metadata": {},
   "outputs": [],
   "source": [
    "df=pd.get_dummies(df)"
   ]
  },
  {
   "cell_type": "code",
   "execution_count": null,
   "metadata": {},
   "outputs": [],
   "source": []
  }
 ],
 "metadata": {
  "kernelspec": {
   "display_name": "Python 3.10.6 64-bit",
   "language": "python",
   "name": "python3"
  },
  "language_info": {
   "codemirror_mode": {
    "name": "ipython",
    "version": 3
   },
   "file_extension": ".py",
   "mimetype": "text/x-python",
   "name": "python",
   "nbconvert_exporter": "python",
   "pygments_lexer": "ipython3",
   "version": "3.10.6"
  },
  "orig_nbformat": 4,
  "vscode": {
   "interpreter": {
    "hash": "28efd09dcc6b142db6e20914436138089792d1363e0d9a987455deac357cff31"
   }
  }
 },
 "nbformat": 4,
 "nbformat_minor": 2
}
